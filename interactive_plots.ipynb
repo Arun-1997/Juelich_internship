{
 "cells": [
  {
   "cell_type": "code",
   "execution_count": 3,
   "id": "646e00c1",
   "metadata": {},
   "outputs": [],
   "source": [
    "# !pip install ipympl"
   ]
  },
  {
   "cell_type": "code",
   "execution_count": 1,
   "id": "3a834f7d",
   "metadata": {},
   "outputs": [],
   "source": [
    "import json,glob,sys,os\n",
    "import matplotlib.pyplot as plt\n",
    "import ipywidgets as widgets\n",
    "from ipywidgets import interact, Dropdown, Select\n",
    "import numpy as np"
   ]
  },
  {
   "cell_type": "code",
   "execution_count": 19,
   "id": "ab90ff56",
   "metadata": {},
   "outputs": [],
   "source": [
    "# %matplotlib widget"
   ]
  },
  {
   "cell_type": "code",
   "execution_count": 2,
   "id": "9fcacf37",
   "metadata": {},
   "outputs": [],
   "source": [
    "%matplotlib inline"
   ]
  },
  {
   "cell_type": "code",
   "execution_count": 3,
   "id": "4df5b667",
   "metadata": {},
   "outputs": [],
   "source": [
    "att_file = open('attention_layers.json') # Check layer1, head1 and layer4,head1 for this model's attention heads\n",
    "att_file_read = att_file.read() \n",
    "att_data = json.loads(att_file_read)"
   ]
  },
  {
   "cell_type": "code",
   "execution_count": 41,
   "id": "2a49a201",
   "metadata": {},
   "outputs": [],
   "source": [
    "# data = px.imshow(att_data['75'][\"att_heads\"]['layer_1']['head_1'][0])\n",
    "# data.show()"
   ]
  },
  {
   "cell_type": "code",
   "execution_count": 4,
   "id": "15399802",
   "metadata": {},
   "outputs": [
    {
     "data": {
      "text/plain": [
       "dict_keys(['75', '76', '77', '78', '79', '80', '81', '82', '83', '84', '85', '86', '87', '88', '89', '90', '91', '92', '93', '94', '95', '96', '97', '98', '99', 'source', 'prediction', 'target'])"
      ]
     },
     "execution_count": 4,
     "metadata": {},
     "output_type": "execute_result"
    }
   ],
   "source": [
    "att_data.keys()"
   ]
  },
  {
   "cell_type": "code",
   "execution_count": 5,
   "id": "10a74647",
   "metadata": {},
   "outputs": [],
   "source": [
    "token_min = 75\n",
    "token_max = 99\n",
    "layer_min = 1\n",
    "layer_max = 6\n",
    "\n",
    "tokens = np.arange(0, 100).reshape(4,5,5)"
   ]
  },
  {
   "cell_type": "code",
   "execution_count": 6,
   "id": "5e8061af",
   "metadata": {},
   "outputs": [
    {
     "name": "stdout",
     "output_type": "stream",
     "text": [
      "[[[ 0  1  2  3  4]\n",
      "  [ 5  6  7  8  9]\n",
      "  [10 11 12 13 14]\n",
      "  [15 16 17 18 19]\n",
      "  [20 21 22 23 24]]\n",
      "\n",
      " [[25 26 27 28 29]\n",
      "  [30 31 32 33 34]\n",
      "  [35 36 37 38 39]\n",
      "  [40 41 42 43 44]\n",
      "  [45 46 47 48 49]]\n",
      "\n",
      " [[50 51 52 53 54]\n",
      "  [55 56 57 58 59]\n",
      "  [60 61 62 63 64]\n",
      "  [65 66 67 68 69]\n",
      "  [70 71 72 73 74]]\n",
      "\n",
      " [[75 76 77 78 79]\n",
      "  [80 81 82 83 84]\n",
      "  [85 86 87 88 89]\n",
      "  [90 91 92 93 94]\n",
      "  [95 96 97 98 99]]]\n"
     ]
    }
   ],
   "source": [
    "print(tokens) #Not sure how to plot just the values to get an idea of the tokens"
   ]
  },
  {
   "cell_type": "code",
   "execution_count": 7,
   "id": "5c56851f",
   "metadata": {},
   "outputs": [],
   "source": [
    "\n",
    "def plot_pred():\n",
    "    nrows = 5 # No of tokens\n",
    "    ncols = 5 # No of tokens\n",
    "\n",
    "    x_index,y_index = (0,0)\n",
    "    fig,ax = plt.subplots(nrows,ncols,figsize=(10,10))\n",
    "    pred_array = np.array(list(att_data[\"prediction\"].values()))\n",
    "    for i in range(token_min,token_max+1):\n",
    "        i_mod = i - token_min\n",
    "        if y_index < ncols:\n",
    "            ax[x_index,y_index].imshow(att_data[\"prediction\"][str(i)],cmap=\"Reds\",\n",
    "                                       vmin=pred_array.min(),vmax=pred_array.max())\n",
    "            ax[x_index,y_index].set_title(\"{}\".format(i),fontsize=8)\n",
    "            y_index +=1\n",
    "            if y_index >= ncols:\n",
    "                y_index = 0\n",
    "                x_index+=1\n",
    "    #     if i > (token_min+nrows):\n"
   ]
  },
  {
   "cell_type": "code",
   "execution_count": 8,
   "id": "46f38490",
   "metadata": {},
   "outputs": [],
   "source": [
    "src = np.array(att_data[\"source\"])"
   ]
  },
  {
   "cell_type": "code",
   "execution_count": 9,
   "id": "9de62c9f",
   "metadata": {},
   "outputs": [
    {
     "data": {
      "text/plain": [
       "(4, 40, 40)"
      ]
     },
     "execution_count": 9,
     "metadata": {},
     "output_type": "execute_result"
    }
   ],
   "source": [
    "src.shape"
   ]
  },
  {
   "cell_type": "code",
   "execution_count": 13,
   "id": "792e71aa",
   "metadata": {},
   "outputs": [
    {
     "data": {
      "application/vnd.jupyter.widget-view+json": {
       "model_id": "845f6aca2165495f8a538e34da479328",
       "version_major": 2,
       "version_minor": 0
      },
      "text/plain": [
       "interactive(children=(IntSlider(value=75, description='token_ID', max=99, min=75), IntSlider(value=1, descript…"
      ]
     },
     "metadata": {},
     "output_type": "display_data"
    }
   ],
   "source": [
    "tokenW = Dropdown(options = att_data.keys())\n",
    "\n",
    "# tokenW1 = widgets.Play(value=token_min,min=token_min,max=token_max,step=1)\n",
    "\n",
    "\n",
    "layer_options = att_data[tokenW.options[0]][\"att_heads\"].keys()\n",
    "layerW = Dropdown(options = layer_options)\n",
    "\n",
    "head_options = att_data[tokenW.options[0]][\"att_heads\"][layerW.options[0]].keys()\n",
    "headW = Dropdown(options=head_options)\n",
    "\n",
    "play = widgets.Play(\n",
    "#     interval=10,\n",
    "    value=token_min,\n",
    "    min=token_min,\n",
    "    max=token_max,\n",
    "    step=1,\n",
    "    description=\"Press play\",\n",
    "    disabled=False\n",
    ")\n",
    "slider = widgets.IntSlider(min=token_min,max=token_max)\n",
    "widgets.jslink((play, 'value'), (slider, 'value'))\n",
    "widgets.HBox([play, slider])\n",
    "widgets.HBox([play])\n",
    "\n",
    "opacity = widgets.FloatSlider(min=0,max=1,value=0.5)\n",
    "layer_slider = widgets.IntSlider(min=layer_min,max=layer_max)\n",
    "\n",
    "\n",
    "# fig = px.imshow(np.array(att_data['75'][\"att_heads\"]['layer_0']['head_0']), facet_col=0, facet_col_wrap=1)\n",
    "\n",
    "@interact(token_ID = slider,layer_slider=layer_slider,head = headW,opacity=opacity)\n",
    "def plot_head(token_ID,layer_slider,head,opacity):\n",
    "#     print(token_ID)\n",
    "    layer_no = layer_slider\n",
    "    fig,ax = plt.subplots(1, 4, figsize=(15,4))\n",
    "    fig.suptitle(\"Attention heads\", fontsize=14)\n",
    "    for i in range(4):\n",
    "        imgA = np.array(att_data[str(token_ID)][\"att_heads\"]['layer_'+str(layer_no)][head][i])\n",
    "        imgB = np.array(att_data[\"source\"][i])\n",
    "        att_lyr = ax[i].imshow(imgA,vmin = 0,vmax=1)\n",
    "        src_lyr = ax[i].imshow(imgB,alpha=opacity,extent=att_lyr.get_extent(),cmap=\"Reds\")\n",
    "    \n",
    "    \n",
    "    # Comment this section if you dont want to visualise average of attention heads\n",
    "#     avg_arr= att_data[str(token_ID)][\"avg_arr\"]\n",
    "#     fig1,ax1 = plt.subplots(1, 4, figsize=(15,4))\n",
    "#     fig1.suptitle(\"Average of Attention heads\", fontsize=14)\n",
    "#     for i in range(4):\n",
    "#         imgA = np.array(avg_arr[layer_no-1][i])\n",
    "#         imgB = np.array(att_data[\"source\"][i])\n",
    "#         att_lyr = ax1[i].imshow(imgA,vmin = np.min(avg_arr),vmax=np.max(avg_arr))\n",
    "#         src_lyr = ax1[i].imshow(imgB,alpha=opacity,extent=att_lyr.get_extent(),cmap=\"Reds\")    \n",
    "    plt.show()\n",
    "\n"
   ]
  },
  {
   "cell_type": "code",
   "execution_count": 11,
   "id": "bf27414a",
   "metadata": {},
   "outputs": [
    {
     "data": {
      "application/vnd.jupyter.widget-view+json": {
       "model_id": "aff6b9ba75c049159025efd24b14caef",
       "version_major": 2,
       "version_minor": 0
      },
      "text/plain": [
       "interactive(children=(IntSlider(value=75, description='token_ID', max=99, min=75), IntSlider(value=1, descript…"
      ]
     },
     "metadata": {},
     "output_type": "display_data"
    }
   ],
   "source": [
    "tokenW = Dropdown(options = att_data.keys())\n",
    "\n",
    "# tokenW1 = widgets.Play(value=token_min,min=token_min,max=token_max,step=1)\n",
    "slider = widgets.IntSlider(min=token_min,max=token_max)\n",
    "# widgets.jslink((play, 'value'), (slider, 'value'))\n",
    "# widgets.HBox([play, slider])\n",
    "# widgets.HBox([play])\n",
    "\n",
    "# layer_options = att_data[tokenW.options[0]][\"att_heads\"].keys()\n",
    "layerW = widgets.IntSlider(min=layer_min,max=layer_max)\n",
    "\n",
    "# fig = px.imshow(np.array(att_data['75'][\"att_heads\"]['layer_0']['head_0']), facet_col=0, facet_col_wrap=1)\n",
    "\n",
    "@interact(token_ID = slider,layer=layerW)\n",
    "def plot_head(token_ID,layer):\n",
    "#     print(token_ID)\n",
    "    avg_arr= att_data[str(token_ID)][\"avg_arr\"]\n",
    "    fig,ax = plt.subplots(1, 4, figsize=(15,4))\n",
    "    fig.suptitle(\"Average of Attention heads\", fontsize=14)\n",
    "\n",
    "    for i in range(4):\n",
    "        imgA = np.array(avg_arr[layer-1][i])\n",
    "        imgB = np.array(att_data[\"source\"][i])\n",
    "        att_lyr = ax[i].imshow(imgA,vmin = np.min(avg_arr),vmax=np.max(avg_arr))\n",
    "        src_lyr = ax[i].imshow(imgB,alpha=0.5,extent=att_lyr.get_extent(),cmap=\"Reds\")\n",
    "    \n",
    "    plt.show()\n",
    "#     print(token_ID)"
   ]
  },
  {
   "cell_type": "code",
   "execution_count": 65,
   "id": "658585cb",
   "metadata": {},
   "outputs": [
    {
     "data": {
      "image/png": "[encoded data removed]",
      "text/plain": [
       "<Figure size 1000x1000 with 25 Axes>"
      ]
     },
     "metadata": {},
     "output_type": "display_data"
    }
   ],
   "source": [
    "nrows = 5 # No of tokens\n",
    "ncols = 5 # No of tokens\n",
    "\n",
    "x_index,y_index = (0,0)\n",
    "fig,ax = plt.subplots(nrows,ncols,figsize=(10,10))\n",
    "pred_array = np.array(list(att_data[\"prediction\"].values()))\n",
    "for i in range(token_min,token_max+1):\n",
    "    i_mod = i - token_min\n",
    "    if y_index < ncols:\n",
    "        ax[x_index,y_index].imshow(att_data[\"prediction\"][str(i)],cmap=\"Reds\",\n",
    "                                   vmin=pred_array.min(),vmax=pred_array.max())\n",
    "        ax[x_index,y_index].set_title(\"{}\".format(i),fontsize=8)\n",
    "        y_index +=1\n",
    "        if y_index >= ncols:\n",
    "            y_index = 0\n",
    "            x_index+=1\n",
    "#     if i > (token_min+nrows):\n"
   ]
  }
 ],
 "metadata": {
  "kernelspec": {
   "display_name": "Python 3 (ipykernel)",
   "language": "python",
   "name": "python3"
  },
  "language_info": {
   "codemirror_mode": {
    "name": "ipython",
    "version": 3
   },
   "file_extension": ".py",
   "mimetype": "text/x-python",
   "name": "python",
   "nbconvert_exporter": "python",
   "pygments_lexer": "ipython3",
   "version": "3.10.4"
  }
 },
 "nbformat": 4,
 "nbformat_minor": 5
}
